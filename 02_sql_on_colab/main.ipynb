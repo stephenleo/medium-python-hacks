{
 "metadata": {
  "language_info": {
   "codemirror_mode": {
    "name": "ipython",
    "version": 3
   },
   "file_extension": ".py",
   "mimetype": "text/x-python",
   "name": "python",
   "nbconvert_exporter": "python",
   "pygments_lexer": "ipython3",
   "version": "3.8.10"
  },
  "orig_nbformat": 4,
  "kernelspec": {
   "name": "python3",
   "display_name": "Python 3.8.10 64-bit ('trust_stream': conda)"
  },
  "interpreter": {
   "hash": "167c1561c174e91518859240caf65cbf556e74a4dcd18fddf53afddc95ecd2f9"
  }
 },
 "nbformat": 4,
 "nbformat_minor": 2,
 "cells": [
  {
   "cell_type": "code",
   "execution_count": 1,
   "metadata": {},
   "outputs": [],
   "source": [
    "import pandas as pd\n",
    "import sqlite3"
   ]
  },
  {
   "source": [
    "## SQL Hepler Functions"
   ],
   "cell_type": "markdown",
   "metadata": {}
  },
  {
   "cell_type": "code",
   "execution_count": 2,
   "metadata": {},
   "outputs": [],
   "source": [
    "def pd_to_sqlDB(input_df: pd.DataFrame,\n",
    "                table_name: str,\n",
    "                db_name: str = 'default.db') -> None:\n",
    "\n",
    "    '''Take a Pandas dataframe `input_df` and upload it to `table_name` SQLITE table\n",
    "\n",
    "    Args:\n",
    "        input_df (pd.DataFrame): Dataframe containing data to upload to SQLITE\n",
    "        table_name (str): Name of the SQLITE table to upload to\n",
    "        db_name (str, optional): Name of the SQLITE Database in which the table is created. \n",
    "                                 Defaults to 'default.db'.\n",
    "    '''\n",
    "\n",
    "    # Step 1: Setup local logging\n",
    "    import logging\n",
    "    logging.basicConfig(level=logging.INFO,\n",
    "                        format='%(asctime)s %(levelname)s: %(message)s',\n",
    "                        datefmt='%Y-%m-%d %H:%M:%S')\n",
    "\n",
    "    # Step 2: Find columns in the dataframe\n",
    "    cols = input_df.columns\n",
    "    cols_string = ','.join(cols)\n",
    "    val_wildcard_string = ','.join(['?'] * len(cols))\n",
    "\n",
    "    # Step 3: Connect to a DB file if it exists, else crete a new file\n",
    "    con = sqlite3.connect(db_name)\n",
    "    cur = con.cursor()\n",
    "    logging.info(f'SQL DB {db_name} created')\n",
    "\n",
    "    # Step 4: Create Table\n",
    "    sql_string = f\"\"\"CREATE TABLE {table_name} ({cols_string});\"\"\"\n",
    "    cur.execute(sql_string)\n",
    "    logging.info(f'SQL Table {table_name} created with {len(cols)} columns')\n",
    "\n",
    "    # Step 5: Upload the dataframe\n",
    "    rows_to_upload = input_df.to_dict(orient='split')['data']\n",
    "    sql_string = f\"\"\"INSERT INTO {table_name} ({cols_string}) VALUES ({val_wildcard_string});\"\"\"\n",
    "    cur.executemany(sql_string, rows_to_upload)\n",
    "    logging.info(f'{len(rows_to_upload)} rows uploaded to {table_name}')\n",
    "  \n",
    "    # Step 6: Commit the changes and close the connection\n",
    "    con.commit()\n",
    "    con.close()\n",
    "\n",
    "\n",
    "def sql_query_to_pd(sql_query_string: str, db_name: str ='default.db') -> pd.DataFrame:\n",
    "    '''Execute an SQL query and return the results as a pandas dataframe\n",
    "\n",
    "    Args:\n",
    "        sql_query_string (str): SQL query string to execute\n",
    "        db_name (str, optional): Name of the SQLITE Database to execute the query in.\n",
    "                                 Defaults to 'default.db'.\n",
    "\n",
    "    Returns:\n",
    "        pd.DataFrame: Results of the SQL query in a pandas dataframe\n",
    "    '''    \n",
    "    # Step 1: Connect to the SQL DB\n",
    "    con = sqlite3.connect(db_name)\n",
    "\n",
    "    # Step 2: Execute the SQL query\n",
    "    cursor = con.execute(sql_query_string)\n",
    "\n",
    "    # Step 3: Fetch the data and column names\n",
    "    result_data = cursor.fetchall()\n",
    "    cols = [description[0] for description in cursor.description]\n",
    "\n",
    "    # Step 4: Close the connection\n",
    "    con.close()\n",
    "\n",
    "    # Step 5: Return as a dataframe\n",
    "    return pd.DataFrame(result_data, columns=cols)"
   ]
  },
  {
   "source": [
    "## Execute Query"
   ],
   "cell_type": "markdown",
   "metadata": {}
  },
  {
   "cell_type": "code",
   "execution_count": 3,
   "metadata": {},
   "outputs": [
    {
     "output_type": "stream",
     "name": "stderr",
     "text": [
      "2021-07-22 09:54:49 INFO: SQL DB default.db created\n",
      "2021-07-22 09:54:49 INFO: SQL Table country_vaccinations created with 15 columns\n",
      "2021-07-22 09:54:49 INFO: 31240 rows uploaded to country_vaccinations\n"
     ]
    },
    {
     "output_type": "execute_result",
     "data": {
      "text/plain": [
       "                             country  total_vaccinated\n",
       "0                              China      6.902029e+10\n",
       "1                      United States      3.337875e+10\n",
       "2                              India      2.254141e+10\n",
       "3                     United Kingdom      7.845782e+09\n",
       "4                            England      6.551042e+09\n",
       "..                               ...               ...\n",
       "213                 Falkland Islands      1.416300e+04\n",
       "214                           Tuvalu      9.572000e+03\n",
       "215  Bonaire Sint Eustatius and Saba      7.391000e+03\n",
       "216                             Niue      1.914000e+03\n",
       "217                         Pitcairn      9.400000e+01\n",
       "\n",
       "[218 rows x 2 columns]"
      ],
      "text/html": "<div>\n<style scoped>\n    .dataframe tbody tr th:only-of-type {\n        vertical-align: middle;\n    }\n\n    .dataframe tbody tr th {\n        vertical-align: top;\n    }\n\n    .dataframe thead th {\n        text-align: right;\n    }\n</style>\n<table border=\"1\" class=\"dataframe\">\n  <thead>\n    <tr style=\"text-align: right;\">\n      <th></th>\n      <th>country</th>\n      <th>total_vaccinated</th>\n    </tr>\n  </thead>\n  <tbody>\n    <tr>\n      <th>0</th>\n      <td>China</td>\n      <td>6.902029e+10</td>\n    </tr>\n    <tr>\n      <th>1</th>\n      <td>United States</td>\n      <td>3.337875e+10</td>\n    </tr>\n    <tr>\n      <th>2</th>\n      <td>India</td>\n      <td>2.254141e+10</td>\n    </tr>\n    <tr>\n      <th>3</th>\n      <td>United Kingdom</td>\n      <td>7.845782e+09</td>\n    </tr>\n    <tr>\n      <th>4</th>\n      <td>England</td>\n      <td>6.551042e+09</td>\n    </tr>\n    <tr>\n      <th>...</th>\n      <td>...</td>\n      <td>...</td>\n    </tr>\n    <tr>\n      <th>213</th>\n      <td>Falkland Islands</td>\n      <td>1.416300e+04</td>\n    </tr>\n    <tr>\n      <th>214</th>\n      <td>Tuvalu</td>\n      <td>9.572000e+03</td>\n    </tr>\n    <tr>\n      <th>215</th>\n      <td>Bonaire Sint Eustatius and Saba</td>\n      <td>7.391000e+03</td>\n    </tr>\n    <tr>\n      <th>216</th>\n      <td>Niue</td>\n      <td>1.914000e+03</td>\n    </tr>\n    <tr>\n      <th>217</th>\n      <td>Pitcairn</td>\n      <td>9.400000e+01</td>\n    </tr>\n  </tbody>\n</table>\n<p>218 rows × 2 columns</p>\n</div>"
     },
     "metadata": {},
     "execution_count": 3
    }
   ],
   "source": [
    "# Step 1: Read the csv file into a dataframe\n",
    "# Dataset from https://www.kaggle.com/gpreda/covid-world-vaccination-progress\n",
    "input_df = pd.read_csv('country_vaccinations.csv')\n",
    " \n",
    "# Step 2: Upload the dataframe to a SQL Table\n",
    "pd_to_sqlDB(input_df,\n",
    "            table_name='country_vaccinations',\n",
    "            db_name='default.db')\n",
    " \n",
    "# Step 3: Write the SQL query in a string variable\n",
    "sql_query_string = \"\"\"\n",
    "    SELECT country, SUM(daily_vaccinations) as total_vaccinated\n",
    "    FROM country_vaccinations \n",
    "    WHERE daily_vaccinations IS NOT NULL \n",
    "    GROUP BY country\n",
    "    ORDER BY total_vaccinated DESC\n",
    "\"\"\"\n",
    " \n",
    "# Step 4: Exectue the SQL query\n",
    "result_df = sql_query_to_pd(sql_query_string, db_name='default.db')\n",
    "result_df"
   ]
  },
  {
   "cell_type": "code",
   "execution_count": null,
   "metadata": {},
   "outputs": [],
   "source": []
  }
 ]
}
